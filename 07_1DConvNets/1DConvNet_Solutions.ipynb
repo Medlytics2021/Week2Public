{
 "cells": [
  {
   "cell_type": "markdown",
   "metadata": {
    "colab_type": "text",
    "id": "PcahCqill_TM"
   },
   "source": [
    "# 1D Convolutional Neural Networks"
   ]
  },
  {
   "cell_type": "markdown",
   "metadata": {
    "colab_type": "text",
    "id": "Bx9AXfRcmGky"
   },
   "source": [
    "### About the Data"
   ]
  },
  {
   "cell_type": "markdown",
   "metadata": {
    "colab_type": "text",
    "id": "8-uE2dd9mJMv"
   },
   "source": [
    "Data for this exercise is from the [Human Activity Recognition Using Smartphones Data Set](https://archive.ics.uci.edu/ml/datasets/human+activity+recognition+using+smartphones) which is furnished by the University of California Irvine Machine Learning Repository.\n",
    "<br><br>\n",
    "In order to populate the dataset, subjects wore a smartphone that recorded their linear acceleration (using an accelerometer) and angular accelleration (using a gyroscope). After the data was collected, segments of each data recording were labeled based on the activity of the subject during that period. (This was possible by consulting video recordings.) Possible data labels included: WALKING, WALKING_UPSTAIRS, WALKING_DOWNSTAIRS, SITTING, STANDING, and LAYING) <br><br>\n",
    "\n",
    "The goal of our classifier will be to predict the label of a piece of data based on accellerometer and gyroscope readings.\n"
   ]
  },
  {
   "cell_type": "markdown",
   "metadata": {
    "colab_type": "text",
    "id": "gHFlVzfY4ZPQ"
   },
   "source": [
    "### Read in data (using functions provided below)\n",
    "\n",
    "Before we read in test/training data, we need to load two provided functions. (read_data_test() and read_data_train()) These functions just load in the data separated into two groups.\n",
    "\n",
    "(Note: because we want to train, validate, and test our machine learning algorithm we would rather it be in 3 groups.)"
   ]
  },
  {
   "cell_type": "code",
   "execution_count": 18,
   "metadata": {
    "colab": {},
    "colab_type": "code",
    "id": "5juHZFcFugzS"
   },
   "outputs": [],
   "source": [
    "# Imports\n",
    "\n",
    "import numpy as np\n",
    "import os\n",
    "from sklearn.model_selection import train_test_split\n",
    "import matplotlib.pyplot as plt\n",
    "import tensorflow as tf\n",
    "import pandas as pd\n",
    "import tensorflow as tf\n",
    "from tensorflow import keras"
   ]
  },
  {
   "cell_type": "code",
   "execution_count": 4,
   "metadata": {
    "colab": {},
    "colab_type": "code",
    "id": "iDJBOkx9x0HZ"
   },
   "outputs": [],
   "source": [
    "def read_data_test():\n",
    "  \"\"\" Read data \"\"\"\n",
    "\n",
    "  # Fixed params\n",
    "  n_class = 6\n",
    "  n_steps = 128\n",
    "\n",
    "  label_path = 'https://raw.githubusercontent.com/BeaverWorksMedlytics2020/Data_Public/master/NotebookExampleData/Week2/week2_conv1d/y_test.txt'\n",
    "  labels = pd.read_csv(label_path, header = None)\n",
    "\n",
    "  list_of_channels = ['body_acc_x', 'body_acc_y', 'body_acc_z', 'body_gyro_x',\n",
    "  'body_gyro_y', 'body_gyro_z', 'total_acc_x', 'total_acc_y', 'total_acc_z']\n",
    "\n",
    "  X = np.zeros((len(labels), n_steps, len(list_of_channels)))\n",
    "\n",
    "  label_path = 'https://raw.githubusercontent.com/BeaverWorksMedlytics2020/Data_Public/master/NotebookExampleData/Week2/week2_conv1d/IntertialSignals/body_acc_x_test.txt'\n",
    "  dat_ = pd.read_csv(label_path, delim_whitespace = True, header = None)\n",
    "  X[:,:,0] = dat_.to_numpy()\n",
    "\n",
    "  label_path = 'https://raw.githubusercontent.com/BeaverWorksMedlytics2020/Data_Public/master/NotebookExampleData/Week2/week2_conv1d/IntertialSignals/body_acc_y_test.txt'\n",
    "  dat_ = pd.read_csv(label_path, delim_whitespace = True, header = None)\n",
    "  X[:,:,1] = dat_.to_numpy()\n",
    "\n",
    "  label_path = 'https://raw.githubusercontent.com/BeaverWorksMedlytics2020/Data_Public/master/NotebookExampleData/Week2/week2_conv1d/IntertialSignals/body_acc_z_test.txt'\n",
    "  dat_ = pd.read_csv(label_path, delim_whitespace = True, header = None)\n",
    "  X[:,:,2] = dat_.to_numpy()\n",
    "\n",
    "  label_path = 'https://raw.githubusercontent.com/BeaverWorksMedlytics2020/Data_Public/master/NotebookExampleData/Week2/week2_conv1d/IntertialSignals/body_gyro_x_test.txt'\n",
    "  dat_ = pd.read_csv(label_path, delim_whitespace = True, header = None)\n",
    "  X[:,:,3] = dat_.to_numpy()\n",
    "\n",
    "  label_path = 'https://raw.githubusercontent.com/BeaverWorksMedlytics2020/Data_Public/master/NotebookExampleData/Week2/week2_conv1d/IntertialSignals/body_gyro_y_test.txt'\n",
    "  dat_ = pd.read_csv(label_path, delim_whitespace = True, header = None)\n",
    "  X[:,:,4] = dat_.to_numpy()\n",
    "\n",
    "  label_path = 'https://raw.githubusercontent.com/BeaverWorksMedlytics2020/Data_Public/master/NotebookExampleData/Week2/week2_conv1d/IntertialSignals/body_gyro_z_test.txt'\n",
    "  dat_ = pd.read_csv(label_path, delim_whitespace = True, header = None)\n",
    "  X[:,:,5] = dat_.to_numpy()\n",
    "\n",
    "  label_path = 'https://raw.githubusercontent.com/BeaverWorksMedlytics2020/Data_Public/master/NotebookExampleData/Week2/week2_conv1d/IntertialSignals/total_acc_x_test.txt'\n",
    "  dat_ = pd.read_csv(label_path, delim_whitespace = True, header = None)\n",
    "  X[:,:,6] = dat_.to_numpy()\n",
    "\n",
    "  label_path = 'https://raw.githubusercontent.com/BeaverWorksMedlytics2020/Data_Public/master/NotebookExampleData/Week2/week2_conv1d/IntertialSignals/total_acc_y_test.txt'\n",
    "  dat_ = pd.read_csv(label_path, delim_whitespace = True, header = None)\n",
    "  X[:,:,7] = dat_.to_numpy()\n",
    "\n",
    "  label_path = 'https://raw.githubusercontent.com/BeaverWorksMedlytics2020/Data_Public/master/NotebookExampleData/Week2/week2_conv1d/IntertialSignals/total_acc_z_test.txt'\n",
    "  dat_ = pd.read_csv(label_path, delim_whitespace = True, header = None)\n",
    "  X[:,:,8] = dat_.to_numpy()\n",
    "\n",
    "\n",
    "  # Return \n",
    "  return X, labels[0].values, list_of_channels"
   ]
  },
  {
   "cell_type": "code",
   "execution_count": 5,
   "metadata": {
    "colab": {},
    "colab_type": "code",
    "id": "adnPCq9PuTBq"
   },
   "outputs": [],
   "source": [
    "def read_data_train():\n",
    "  \"\"\" Read data \"\"\"\n",
    "\n",
    "  # Fixed params\n",
    "  n_class = 6\n",
    "  n_steps = 128\n",
    "\n",
    "  label_path ='https://raw.githubusercontent.com/BeaverWorksMedlytics2020/Data_Public/master/NotebookExampleData/Week2/week2_conv1d/y_train.txt'\n",
    "  labels = pd.read_csv(label_path, header = None)\n",
    "\n",
    "  list_of_channels = ['body_acc_x', 'body_acc_y', 'body_acc_z', 'body_gyro_x',\n",
    "  'body_gyro_y', 'body_gyro_z', 'total_acc_x', 'total_acc_y', 'total_acc_z']\n",
    "\n",
    "  X = np.zeros((len(labels), n_steps, len(list_of_channels)))\n",
    "\n",
    "  label_path = 'https://raw.githubusercontent.com/BeaverWorksMedlytics2020/Data_Public/master/NotebookExampleData/Week2/week2_conv1d/IntertialSignals/body_acc_x_train.txt'\n",
    "  dat_ = pd.read_csv(label_path, delim_whitespace = True, header = None)\n",
    "  X[:,:,0] = dat_.to_numpy()\n",
    "\n",
    "  label_path = 'https://raw.githubusercontent.com/BeaverWorksMedlytics2020/Data_Public/master/NotebookExampleData/Week2/week2_conv1d/IntertialSignals/body_acc_y_train.txt'\n",
    "  dat_ = pd.read_csv(label_path, delim_whitespace = True, header = None)\n",
    "  X[:,:,1] = dat_.to_numpy()\n",
    "\n",
    "  label_path = 'https://raw.githubusercontent.com/BeaverWorksMedlytics2020/Data_Public/master/NotebookExampleData/Week2/week2_conv1d/IntertialSignals/body_acc_z_train.txt'\n",
    "  dat_ = pd.read_csv(label_path, delim_whitespace = True, header = None)\n",
    "  X[:,:,2] = dat_.to_numpy()\n",
    "\n",
    "  label_path = 'https://raw.githubusercontent.com/BeaverWorksMedlytics2020/Data_Public/master/NotebookExampleData/Week2/week2_conv1d/IntertialSignals/body_gyro_x_train.txt'\n",
    "  dat_ = pd.read_csv(label_path, delim_whitespace = True, header = None)\n",
    "  X[:,:,3] = dat_.to_numpy()\n",
    "\n",
    "  label_path = 'https://raw.githubusercontent.com/BeaverWorksMedlytics2020/Data_Public/master/NotebookExampleData/Week2/week2_conv1d/IntertialSignals/body_gyro_y_train.txt'\n",
    "  dat_ = pd.read_csv(label_path, delim_whitespace = True, header = None)\n",
    "  X[:,:,4] = dat_.to_numpy()\n",
    "\n",
    "  label_path = 'https://raw.githubusercontent.com/BeaverWorksMedlytics2020/Data_Public/master/NotebookExampleData/Week2/week2_conv1d/IntertialSignals/body_gyro_z_train.txt'\n",
    "  dat_ = pd.read_csv(label_path, delim_whitespace = True, header = None)\n",
    "  X[:,:,5] = dat_.to_numpy()\n",
    "\n",
    "  label_path = 'https://raw.githubusercontent.com/BeaverWorksMedlytics2020/Data_Public/master/NotebookExampleData/Week2/week2_conv1d/IntertialSignals/total_acc_x_train.txt'\n",
    "  dat_ = pd.read_csv(label_path, delim_whitespace = True, header = None)\n",
    "  X[:,:,6] = dat_.to_numpy()\n",
    "\n",
    "  label_path = 'https://raw.githubusercontent.com/BeaverWorksMedlytics2020/Data_Public/master/NotebookExampleData/Week2/week2_conv1d/IntertialSignals/total_acc_y_train.txt'\n",
    "  dat_ = pd.read_csv(label_path, delim_whitespace = True, header = None)\n",
    "  X[:,:,7] = dat_.to_numpy()\n",
    "\n",
    "  label_path = 'https://raw.githubusercontent.com/BeaverWorksMedlytics2020/Data_Public/master/NotebookExampleData/Week2/week2_conv1d/IntertialSignals/total_acc_z_train.txt'\n",
    "  dat_ = pd.read_csv(label_path, delim_whitespace = True, header = None)\n",
    "  X[:,:,8] = dat_.to_numpy()\n",
    "\n",
    "\n",
    "  # Return \n",
    "  return X, labels[0].values, list_of_channels"
   ]
  },
  {
   "cell_type": "code",
   "execution_count": 8,
   "metadata": {
    "colab": {},
    "colab_type": "code",
    "id": "ikIjLu7w4Mm_"
   },
   "outputs": [],
   "source": [
    "X_train, labels_train, list_ch_train = read_data_train() # train\n",
    "X_test, labels_test, list_ch_test = read_data_test()"
   ]
  },
  {
   "cell_type": "code",
   "execution_count": 9,
   "metadata": {
    "colab": {
     "base_uri": "https://localhost:8080/",
     "height": 34
    },
    "colab_type": "code",
    "id": "EG3Tq1ajmjOu",
    "outputId": "54b56757-4458-4a7d-a161-1a66381ae1ec"
   },
   "outputs": [
    {
     "name": "stdout",
     "output_type": "stream",
     "text": [
      "(7352, 128, 9)\n"
     ]
    }
   ],
   "source": [
    "#First dimension is number of samples\n",
    "#Second dimension is time step\n",
    "#Third dimension refers to which sensor provides the data\n",
    "\n",
    "print(X_train.shape)"
   ]
  },
  {
   "cell_type": "markdown",
   "metadata": {
    "colab_type": "text",
    "id": "MwRtb-8ymqDz"
   },
   "source": [
    "\n",
    "#### Explaining the shape of the data \n",
    "There are 7,352 data points that are classified as doing one of those activities <br>\n",
    "There are 128 time steps <br>\n",
    "There are 9 values for each time step for each data point for the x,y,z values of the body \n",
    "acceleration, general acceleration and gyrscope reading. <br>"
   ]
  },
  {
   "cell_type": "markdown",
   "metadata": {
    "colab_type": "text",
    "id": "V-8mOh7cm75k"
   },
   "source": [
    "### Use train_test_split to split provided \"training\" set into training and validation data"
   ]
  },
  {
   "cell_type": "code",
   "execution_count": 10,
   "metadata": {
    "colab": {},
    "colab_type": "code",
    "id": "buuR3HH9yTOw"
   },
   "outputs": [],
   "source": [
    "# your code here\n",
    "X_tr, X_vld, lab_tr, lab_vld = train_test_split(X_train, labels_train, \n",
    "                                                stratify = labels_train, random_state = 123)"
   ]
  },
  {
   "cell_type": "markdown",
   "metadata": {
    "colab_type": "text",
    "id": "roTpeSQMnKHa"
   },
   "source": [
    "One hot coding is when each row represents one label and it the nonzero column represents what the label is<br>\n",
    " [0,0,0,0,0,1] <br>\n",
    "           ^ This label is LAYING, which was previously represented with a 5\n",
    "           <br><br>"
   ]
  },
  {
   "cell_type": "markdown",
   "metadata": {
    "colab_type": "text",
    "id": "0LiLobJZnscs"
   },
   "source": [
    "### We load some provided one-hot functions\n",
    "<br> Use these functions to convert all labels into one-hot encoding. This is a common step in machine learning classification problems."
   ]
  },
  {
   "cell_type": "code",
   "execution_count": 23,
   "metadata": {
    "colab": {},
    "colab_type": "code",
    "id": "wrog_9co1HhG"
   },
   "outputs": [],
   "source": [
    "def one_hot(labels, n_class = 6):\n",
    "\t\"\"\" \n",
    "\t\tReplace integer entries in labels with their onehot equivalents\n",
    "\n",
    "\t\tparameters:\n",
    "\n",
    "\t\t\t labels  -- a 1D np.array of integer labels\n",
    "\n",
    "\t\t\t n_class -- the total number of classes\n",
    "\t\"\"\"\n",
    "\t\n",
    "\t# Make an identity matrix (ones on the diagonal, zeros everywhere else)\n",
    "\texpansion = np.eye(n_class)\n",
    " \n",
    "\t# let the ith entry of y be the (label-1)th column of the identity matrix\n",
    "\ty = expansion[labels-1, :]\n",
    "\n",
    "\treturn y"
   ]
  },
  {
   "cell_type": "code",
   "execution_count": 12,
   "metadata": {
    "colab": {},
    "colab_type": "code",
    "id": "EYft5h8x1IbU"
   },
   "outputs": [],
   "source": [
    "def get_batches(X, y, batch_size = 100):\n",
    "\t\"\"\" Return a generator for batches \"\"\"\n",
    "\tn_batches = len(X) // batch_size\n",
    "\tX, y = X[:n_batches*batch_size], y[:n_batches*batch_size]\n",
    "\n",
    "\t# Loop over batches and yield\n",
    "\tfor b in range(0, len(X), batch_size):\n",
    "\t\tyield X[b:b+batch_size], y[b:b+batch_size]"
   ]
  },
  {
   "cell_type": "code",
   "execution_count": 24,
   "metadata": {
    "colab": {},
    "colab_type": "code",
    "id": "gZQJY0rYnKeC"
   },
   "outputs": [],
   "source": [
    "# your code here\n",
    "y_tr = one_hot(lab_tr)\n",
    "y_vld = one_hot(lab_vld)\n",
    "y_test = one_hot(labels_test)"
   ]
  },
  {
   "cell_type": "markdown",
   "metadata": {
    "colab_type": "text",
    "id": "7bi9-LMuotEG"
   },
   "source": [
    "### Define your Keras model <br>\n",
    "You wlil want to use\n",
    "\n",
    "See for examples on creating Keras modelshttps://github.com/keras-team/keras/blob/master/examples/mnist_cnn.py"
   ]
  },
  {
   "cell_type": "code",
   "execution_count": 25,
   "metadata": {
    "colab": {
     "base_uri": "https://localhost:8080/",
     "height": 132
    },
    "colab_type": "code",
    "id": "9mwwpV8upQYD",
    "outputId": "77f37234-1efb-4c90-fd61-95dd1901cc28"
   },
   "outputs": [
    {
     "ename": "SyntaxError",
     "evalue": "ignored",
     "output_type": "error",
     "traceback": [
      "\u001b[0;36m  File \u001b[0;32m\"<ipython-input-25-1b3ee2928c84>\"\u001b[0;36m, line \u001b[0;32m6\u001b[0m\n\u001b[0;31m    print(model.summary())  # view model\u001b[0m\n\u001b[0m                                        ^\u001b[0m\n\u001b[0;31mSyntaxError\u001b[0m\u001b[0;31m:\u001b[0m unexpected EOF while parsing\n"
     ]
    }
   ],
   "source": [
    "# fill in with your code below\n",
    "model = keras.Sequential()\n",
    "model.add( # add convolutional layer )\n",
    "model.add( # add pooling layer )\n",
    "model.add( # what layer is needed to output the predict results )\n",
    "print(model.summary())  # view model"
   ]
  },
  {
   "cell_type": "code",
   "execution_count": 26,
   "metadata": {
    "colab": {
     "base_uri": "https://localhost:8080/",
     "height": 263
    },
    "colab_type": "code",
    "id": "_xq2TuaP5xJg",
    "outputId": "c6a5d8b6-83c5-4966-ea1e-5c3f11895628"
   },
   "outputs": [
    {
     "name": "stdout",
     "output_type": "stream",
     "text": [
      "Model: \"sequential_1\"\n",
      "_________________________________________________________________\n",
      "Layer (type)                 Output Shape              Param #   \n",
      "=================================================================\n",
      "conv1d_1 (Conv1D)            (None, 128, 18)           342       \n",
      "_________________________________________________________________\n",
      "global_max_pooling1d_1 (Glob (None, 18)                0         \n",
      "_________________________________________________________________\n",
      "dense_1 (Dense)              (None, 6)                 114       \n",
      "=================================================================\n",
      "Total params: 456\n",
      "Trainable params: 456\n",
      "Non-trainable params: 0\n",
      "_________________________________________________________________\n"
     ]
    }
   ],
   "source": [
    "# teacher solutions\n",
    "model = keras.Sequential()\n",
    "model.add(keras.layers.Conv1D(filters=18, kernel_size=2, strides=1, padding=\"same\",  activation = tf.nn.relu, input_shape=(128, 9)))\n",
    "model.add(keras.layers.GlobalMaxPooling1D())\n",
    "model.add(keras.layers.Dense(6, activation=tf.nn.sigmoid))\n",
    "model.summary()   "
   ]
  },
  {
   "cell_type": "markdown",
   "metadata": {
    "colab_type": "text",
    "id": "X844AtBlqV1Y"
   },
   "source": [
    "### Compile your model"
   ]
  },
  {
   "cell_type": "code",
   "execution_count": 27,
   "metadata": {
    "colab": {},
    "colab_type": "code",
    "id": "6KSPl0lMqUUZ"
   },
   "outputs": [],
   "source": [
    "lr = 0.0008 # choose a learning rate, this will be a good paramter to tune\n",
    "model.compile( optimizer=tf.compat.v1.train.AdamOptimizer(lr), loss=keras.losses.categorical_crossentropy, metrics = ['accuracy'] )"
   ]
  },
  {
   "cell_type": "markdown",
   "metadata": {
    "colab_type": "text",
    "id": "pBOK_ZaCq6XR"
   },
   "source": [
    "### Fit your model"
   ]
  },
  {
   "cell_type": "code",
   "execution_count": null,
   "metadata": {
    "colab": {},
    "colab_type": "code",
    "id": "dlA_PUBBlymf"
   },
   "outputs": [],
   "source": []
  },
  {
   "cell_type": "code",
   "execution_count": null,
   "metadata": {
    "colab": {},
    "colab_type": "code",
    "id": "6ksWXRzrrCzL"
   },
   "outputs": [],
   "source": [
    "history = model.fit( # your training data,\n",
    "                    # your training labels,\n",
    "                    epochs= # how many epochs?,\n",
    "                    batch_size= # batch size,\n",
    "                    validation_data=(# your validation data, val labels),\n",
    "                    verbose=1 \n",
    "                    )"
   ]
  },
  {
   "cell_type": "code",
   "execution_count": 28,
   "metadata": {
    "colab": {
     "base_uri": "https://localhost:8080/",
     "height": 1000
    },
    "colab_type": "code",
    "id": "XBx9XIqDq5Ly",
    "outputId": "08fa0e9f-5bcd-414e-a7c6-b3f5c90e49a4"
   },
   "outputs": [
    {
     "name": "stdout",
     "output_type": "stream",
     "text": [
      "Epoch 1/100\n",
      "10/10 [==============================] - 1s 50ms/step - loss: 1.9654 - accuracy: 0.1815 - val_loss: 1.9433 - val_accuracy: 0.1844\n",
      "Epoch 2/100\n",
      "10/10 [==============================] - 0s 37ms/step - loss: 1.9112 - accuracy: 0.1857 - val_loss: 1.8900 - val_accuracy: 0.1861\n",
      "Epoch 3/100\n",
      "10/10 [==============================] - 0s 43ms/step - loss: 1.8626 - accuracy: 0.1870 - val_loss: 1.8427 - val_accuracy: 0.1861\n",
      "Epoch 4/100\n",
      "10/10 [==============================] - 0s 41ms/step - loss: 1.8190 - accuracy: 0.1872 - val_loss: 1.8008 - val_accuracy: 0.1866\n",
      "Epoch 5/100\n",
      "10/10 [==============================] - 0s 39ms/step - loss: 1.7807 - accuracy: 0.1881 - val_loss: 1.7634 - val_accuracy: 0.1882\n",
      "Epoch 6/100\n",
      "10/10 [==============================] - 0s 40ms/step - loss: 1.7468 - accuracy: 0.1924 - val_loss: 1.7301 - val_accuracy: 0.1964\n",
      "Epoch 7/100\n",
      "10/10 [==============================] - 0s 43ms/step - loss: 1.7157 - accuracy: 0.2038 - val_loss: 1.6995 - val_accuracy: 0.2095\n",
      "Epoch 8/100\n",
      "10/10 [==============================] - 0s 38ms/step - loss: 1.6861 - accuracy: 0.2417 - val_loss: 1.6709 - val_accuracy: 0.2764\n",
      "Epoch 9/100\n",
      "10/10 [==============================] - 0s 35ms/step - loss: 1.6584 - accuracy: 0.3214 - val_loss: 1.6428 - val_accuracy: 0.3760\n",
      "Epoch 10/100\n",
      "10/10 [==============================] - 0s 34ms/step - loss: 1.6314 - accuracy: 0.3827 - val_loss: 1.6158 - val_accuracy: 0.4456\n",
      "Epoch 11/100\n",
      "10/10 [==============================] - 0s 38ms/step - loss: 1.6048 - accuracy: 0.5123 - val_loss: 1.5893 - val_accuracy: 0.5843\n",
      "Epoch 12/100\n",
      "10/10 [==============================] - 0s 41ms/step - loss: 1.5788 - accuracy: 0.5800 - val_loss: 1.5633 - val_accuracy: 0.6050\n",
      "Epoch 13/100\n",
      "10/10 [==============================] - 0s 42ms/step - loss: 1.5530 - accuracy: 0.5943 - val_loss: 1.5377 - val_accuracy: 0.6023\n",
      "Epoch 14/100\n",
      "10/10 [==============================] - 0s 45ms/step - loss: 1.5277 - accuracy: 0.5912 - val_loss: 1.5126 - val_accuracy: 0.5990\n",
      "Epoch 15/100\n",
      "10/10 [==============================] - 0s 40ms/step - loss: 1.5032 - accuracy: 0.5929 - val_loss: 1.4884 - val_accuracy: 0.5979\n",
      "Epoch 16/100\n",
      "10/10 [==============================] - 0s 39ms/step - loss: 1.4793 - accuracy: 0.5939 - val_loss: 1.4648 - val_accuracy: 0.6050\n",
      "Epoch 17/100\n",
      "10/10 [==============================] - 0s 45ms/step - loss: 1.4559 - accuracy: 0.6039 - val_loss: 1.4418 - val_accuracy: 0.6148\n",
      "Epoch 18/100\n",
      "10/10 [==============================] - 0s 41ms/step - loss: 1.4330 - accuracy: 0.6230 - val_loss: 1.4192 - val_accuracy: 0.6295\n",
      "Epoch 19/100\n",
      "10/10 [==============================] - 0s 44ms/step - loss: 1.4102 - accuracy: 0.6373 - val_loss: 1.3967 - val_accuracy: 0.6376\n",
      "Epoch 20/100\n",
      "10/10 [==============================] - 0s 38ms/step - loss: 1.3876 - accuracy: 0.6507 - val_loss: 1.3742 - val_accuracy: 0.6513\n",
      "Epoch 21/100\n",
      "10/10 [==============================] - 0s 40ms/step - loss: 1.3648 - accuracy: 0.6665 - val_loss: 1.3516 - val_accuracy: 0.6649\n",
      "Epoch 22/100\n",
      "10/10 [==============================] - 0s 39ms/step - loss: 1.3421 - accuracy: 0.6765 - val_loss: 1.3287 - val_accuracy: 0.6736\n",
      "Epoch 23/100\n",
      "10/10 [==============================] - 0s 43ms/step - loss: 1.3188 - accuracy: 0.6835 - val_loss: 1.3057 - val_accuracy: 0.6839\n",
      "Epoch 24/100\n",
      "10/10 [==============================] - 0s 40ms/step - loss: 1.2955 - accuracy: 0.6881 - val_loss: 1.2827 - val_accuracy: 0.6882\n",
      "Epoch 25/100\n",
      "10/10 [==============================] - 0s 39ms/step - loss: 1.2719 - accuracy: 0.6957 - val_loss: 1.2593 - val_accuracy: 0.6948\n",
      "Epoch 26/100\n",
      "10/10 [==============================] - 0s 43ms/step - loss: 1.2481 - accuracy: 0.6999 - val_loss: 1.2358 - val_accuracy: 0.7035\n",
      "Epoch 27/100\n",
      "10/10 [==============================] - 0s 41ms/step - loss: 1.2244 - accuracy: 0.7062 - val_loss: 1.2121 - val_accuracy: 0.7106\n",
      "Epoch 28/100\n",
      "10/10 [==============================] - 0s 40ms/step - loss: 1.2005 - accuracy: 0.7145 - val_loss: 1.1884 - val_accuracy: 0.7193\n",
      "Epoch 29/100\n",
      "10/10 [==============================] - 0s 40ms/step - loss: 1.1766 - accuracy: 0.7278 - val_loss: 1.1646 - val_accuracy: 0.7307\n",
      "Epoch 30/100\n",
      "10/10 [==============================] - 0s 43ms/step - loss: 1.1527 - accuracy: 0.7379 - val_loss: 1.1409 - val_accuracy: 0.7459\n",
      "Epoch 31/100\n",
      "10/10 [==============================] - 0s 39ms/step - loss: 1.1288 - accuracy: 0.7524 - val_loss: 1.1176 - val_accuracy: 0.7579\n",
      "Epoch 32/100\n",
      "10/10 [==============================] - 0s 41ms/step - loss: 1.1051 - accuracy: 0.7631 - val_loss: 1.0939 - val_accuracy: 0.7704\n",
      "Epoch 33/100\n",
      "10/10 [==============================] - 0s 38ms/step - loss: 1.0813 - accuracy: 0.7758 - val_loss: 1.0706 - val_accuracy: 0.7856\n",
      "Epoch 34/100\n",
      "10/10 [==============================] - 0s 36ms/step - loss: 1.0580 - accuracy: 0.7938 - val_loss: 1.0474 - val_accuracy: 0.7982\n",
      "Epoch 35/100\n",
      "10/10 [==============================] - 0s 37ms/step - loss: 1.0347 - accuracy: 0.8047 - val_loss: 1.0247 - val_accuracy: 0.8118\n",
      "Epoch 36/100\n",
      "10/10 [==============================] - 0s 34ms/step - loss: 1.0120 - accuracy: 0.8161 - val_loss: 1.0021 - val_accuracy: 0.8156\n",
      "Epoch 37/100\n",
      "10/10 [==============================] - 0s 35ms/step - loss: 0.9891 - accuracy: 0.8196 - val_loss: 0.9794 - val_accuracy: 0.8166\n",
      "Epoch 38/100\n",
      "10/10 [==============================] - 0s 38ms/step - loss: 0.9666 - accuracy: 0.8217 - val_loss: 0.9573 - val_accuracy: 0.8156\n",
      "Epoch 39/100\n",
      "10/10 [==============================] - 0s 34ms/step - loss: 0.9442 - accuracy: 0.8248 - val_loss: 0.9352 - val_accuracy: 0.8205\n",
      "Epoch 40/100\n",
      "10/10 [==============================] - 0s 35ms/step - loss: 0.9221 - accuracy: 0.8244 - val_loss: 0.9130 - val_accuracy: 0.8232\n",
      "Epoch 41/100\n",
      "10/10 [==============================] - 0s 34ms/step - loss: 0.8996 - accuracy: 0.8261 - val_loss: 0.8905 - val_accuracy: 0.8254\n",
      "Epoch 42/100\n",
      "10/10 [==============================] - 0s 37ms/step - loss: 0.8769 - accuracy: 0.8322 - val_loss: 0.8680 - val_accuracy: 0.8308\n",
      "Epoch 43/100\n",
      "10/10 [==============================] - 0s 35ms/step - loss: 0.8542 - accuracy: 0.8346 - val_loss: 0.8453 - val_accuracy: 0.8313\n",
      "Epoch 44/100\n",
      "10/10 [==============================] - 0s 34ms/step - loss: 0.8316 - accuracy: 0.8355 - val_loss: 0.8231 - val_accuracy: 0.8379\n",
      "Epoch 45/100\n",
      "10/10 [==============================] - 0s 36ms/step - loss: 0.8094 - accuracy: 0.8422 - val_loss: 0.8013 - val_accuracy: 0.8487\n",
      "Epoch 46/100\n",
      "10/10 [==============================] - 0s 34ms/step - loss: 0.7874 - accuracy: 0.8478 - val_loss: 0.7797 - val_accuracy: 0.8455\n",
      "Epoch 47/100\n",
      "10/10 [==============================] - 0s 35ms/step - loss: 0.7660 - accuracy: 0.8491 - val_loss: 0.7586 - val_accuracy: 0.8466\n",
      "Epoch 48/100\n",
      "10/10 [==============================] - 0s 35ms/step - loss: 0.7450 - accuracy: 0.8466 - val_loss: 0.7382 - val_accuracy: 0.8460\n",
      "Epoch 49/100\n",
      "10/10 [==============================] - 0s 35ms/step - loss: 0.7245 - accuracy: 0.8507 - val_loss: 0.7182 - val_accuracy: 0.8493\n",
      "Epoch 50/100\n",
      "10/10 [==============================] - 0s 36ms/step - loss: 0.7048 - accuracy: 0.8547 - val_loss: 0.6989 - val_accuracy: 0.8520\n",
      "Epoch 51/100\n",
      "10/10 [==============================] - 0s 35ms/step - loss: 0.6856 - accuracy: 0.8602 - val_loss: 0.6803 - val_accuracy: 0.8645\n",
      "Epoch 52/100\n",
      "10/10 [==============================] - 0s 36ms/step - loss: 0.6677 - accuracy: 0.8682 - val_loss: 0.6626 - val_accuracy: 0.8662\n",
      "Epoch 53/100\n",
      "10/10 [==============================] - 0s 35ms/step - loss: 0.6497 - accuracy: 0.8698 - val_loss: 0.6456 - val_accuracy: 0.8694\n",
      "Epoch 54/100\n",
      "10/10 [==============================] - 0s 37ms/step - loss: 0.6330 - accuracy: 0.8747 - val_loss: 0.6292 - val_accuracy: 0.8754\n",
      "Epoch 55/100\n",
      "10/10 [==============================] - 0s 37ms/step - loss: 0.6169 - accuracy: 0.8783 - val_loss: 0.6137 - val_accuracy: 0.8770\n",
      "Epoch 56/100\n",
      "10/10 [==============================] - 0s 35ms/step - loss: 0.6016 - accuracy: 0.8787 - val_loss: 0.5987 - val_accuracy: 0.8787\n",
      "Epoch 57/100\n",
      "10/10 [==============================] - 0s 34ms/step - loss: 0.5868 - accuracy: 0.8821 - val_loss: 0.5845 - val_accuracy: 0.8787\n",
      "Epoch 58/100\n",
      "10/10 [==============================] - 0s 35ms/step - loss: 0.5727 - accuracy: 0.8845 - val_loss: 0.5707 - val_accuracy: 0.8825\n",
      "Epoch 59/100\n",
      "10/10 [==============================] - 0s 34ms/step - loss: 0.5593 - accuracy: 0.8867 - val_loss: 0.5577 - val_accuracy: 0.8852\n",
      "Epoch 60/100\n",
      "10/10 [==============================] - 0s 34ms/step - loss: 0.5464 - accuracy: 0.8915 - val_loss: 0.5451 - val_accuracy: 0.8874\n",
      "Epoch 61/100\n",
      "10/10 [==============================] - 0s 38ms/step - loss: 0.5341 - accuracy: 0.8914 - val_loss: 0.5332 - val_accuracy: 0.8885\n",
      "Epoch 62/100\n",
      "10/10 [==============================] - 0s 34ms/step - loss: 0.5221 - accuracy: 0.8934 - val_loss: 0.5218 - val_accuracy: 0.8901\n",
      "Epoch 63/100\n",
      "10/10 [==============================] - 0s 35ms/step - loss: 0.5110 - accuracy: 0.8948 - val_loss: 0.5107 - val_accuracy: 0.8890\n",
      "Epoch 64/100\n",
      "10/10 [==============================] - 0s 37ms/step - loss: 0.5000 - accuracy: 0.8941 - val_loss: 0.5000 - val_accuracy: 0.8917\n",
      "Epoch 65/100\n",
      "10/10 [==============================] - 0s 34ms/step - loss: 0.4896 - accuracy: 0.8957 - val_loss: 0.4898 - val_accuracy: 0.8945\n",
      "Epoch 66/100\n",
      "10/10 [==============================] - 0s 35ms/step - loss: 0.4793 - accuracy: 0.8972 - val_loss: 0.4800 - val_accuracy: 0.8961\n",
      "Epoch 67/100\n",
      "10/10 [==============================] - 0s 34ms/step - loss: 0.4697 - accuracy: 0.8992 - val_loss: 0.4707 - val_accuracy: 0.8993\n",
      "Epoch 68/100\n",
      "10/10 [==============================] - 0s 36ms/step - loss: 0.4604 - accuracy: 0.8999 - val_loss: 0.4616 - val_accuracy: 0.8945\n",
      "Epoch 69/100\n",
      "10/10 [==============================] - 0s 36ms/step - loss: 0.4513 - accuracy: 0.8995 - val_loss: 0.4526 - val_accuracy: 0.8950\n",
      "Epoch 70/100\n",
      "10/10 [==============================] - 0s 36ms/step - loss: 0.4425 - accuracy: 0.9015 - val_loss: 0.4442 - val_accuracy: 0.8977\n",
      "Epoch 71/100\n",
      "10/10 [==============================] - 0s 35ms/step - loss: 0.4340 - accuracy: 0.9024 - val_loss: 0.4362 - val_accuracy: 0.8966\n",
      "Epoch 72/100\n",
      "10/10 [==============================] - 0s 34ms/step - loss: 0.4261 - accuracy: 0.9013 - val_loss: 0.4280 - val_accuracy: 0.8983\n",
      "Epoch 73/100\n",
      "10/10 [==============================] - 0s 34ms/step - loss: 0.4180 - accuracy: 0.9015 - val_loss: 0.4202 - val_accuracy: 0.8999\n",
      "Epoch 74/100\n",
      "10/10 [==============================] - 0s 35ms/step - loss: 0.4103 - accuracy: 0.9019 - val_loss: 0.4126 - val_accuracy: 0.9004\n",
      "Epoch 75/100\n",
      "10/10 [==============================] - 0s 33ms/step - loss: 0.4030 - accuracy: 0.9026 - val_loss: 0.4056 - val_accuracy: 0.9015\n",
      "Epoch 76/100\n",
      "10/10 [==============================] - 0s 36ms/step - loss: 0.3959 - accuracy: 0.9026 - val_loss: 0.3986 - val_accuracy: 0.9021\n",
      "Epoch 77/100\n",
      "10/10 [==============================] - 0s 35ms/step - loss: 0.3890 - accuracy: 0.9033 - val_loss: 0.3920 - val_accuracy: 0.9015\n",
      "Epoch 78/100\n",
      "10/10 [==============================] - 0s 35ms/step - loss: 0.3825 - accuracy: 0.9028 - val_loss: 0.3856 - val_accuracy: 0.9032\n",
      "Epoch 79/100\n",
      "10/10 [==============================] - 0s 34ms/step - loss: 0.3759 - accuracy: 0.9048 - val_loss: 0.3798 - val_accuracy: 0.9053\n",
      "Epoch 80/100\n",
      "10/10 [==============================] - 0s 36ms/step - loss: 0.3699 - accuracy: 0.9075 - val_loss: 0.3737 - val_accuracy: 0.9059\n",
      "Epoch 81/100\n",
      "10/10 [==============================] - 0s 37ms/step - loss: 0.3639 - accuracy: 0.9066 - val_loss: 0.3682 - val_accuracy: 0.9042\n",
      "Epoch 82/100\n",
      "10/10 [==============================] - 0s 35ms/step - loss: 0.3581 - accuracy: 0.9066 - val_loss: 0.3625 - val_accuracy: 0.9053\n",
      "Epoch 83/100\n",
      "10/10 [==============================] - 0s 35ms/step - loss: 0.3526 - accuracy: 0.9077 - val_loss: 0.3572 - val_accuracy: 0.9064\n",
      "Epoch 84/100\n",
      "10/10 [==============================] - 0s 33ms/step - loss: 0.3473 - accuracy: 0.9090 - val_loss: 0.3520 - val_accuracy: 0.9048\n",
      "Epoch 85/100\n",
      "10/10 [==============================] - 0s 34ms/step - loss: 0.3421 - accuracy: 0.9097 - val_loss: 0.3470 - val_accuracy: 0.9059\n",
      "Epoch 86/100\n",
      "10/10 [==============================] - 0s 34ms/step - loss: 0.3371 - accuracy: 0.9106 - val_loss: 0.3421 - val_accuracy: 0.9081\n",
      "Epoch 87/100\n",
      "10/10 [==============================] - 0s 34ms/step - loss: 0.3323 - accuracy: 0.9126 - val_loss: 0.3375 - val_accuracy: 0.9108\n",
      "Epoch 88/100\n",
      "10/10 [==============================] - 0s 34ms/step - loss: 0.3276 - accuracy: 0.9168 - val_loss: 0.3332 - val_accuracy: 0.9108\n",
      "Epoch 89/100\n",
      "10/10 [==============================] - 0s 36ms/step - loss: 0.3233 - accuracy: 0.9160 - val_loss: 0.3289 - val_accuracy: 0.9113\n",
      "Epoch 90/100\n",
      "10/10 [==============================] - 0s 36ms/step - loss: 0.3189 - accuracy: 0.9177 - val_loss: 0.3245 - val_accuracy: 0.9102\n",
      "Epoch 91/100\n",
      "10/10 [==============================] - 0s 36ms/step - loss: 0.3146 - accuracy: 0.9182 - val_loss: 0.3205 - val_accuracy: 0.9119\n",
      "Epoch 92/100\n",
      "10/10 [==============================] - 0s 36ms/step - loss: 0.3106 - accuracy: 0.9180 - val_loss: 0.3164 - val_accuracy: 0.9119\n",
      "Epoch 93/100\n",
      "10/10 [==============================] - 0s 35ms/step - loss: 0.3066 - accuracy: 0.9186 - val_loss: 0.3126 - val_accuracy: 0.9129\n",
      "Epoch 94/100\n",
      "10/10 [==============================] - 0s 34ms/step - loss: 0.3029 - accuracy: 0.9180 - val_loss: 0.3090 - val_accuracy: 0.9119\n",
      "Epoch 95/100\n",
      "10/10 [==============================] - 0s 36ms/step - loss: 0.2993 - accuracy: 0.9188 - val_loss: 0.3055 - val_accuracy: 0.9129\n",
      "Epoch 96/100\n",
      "10/10 [==============================] - 0s 34ms/step - loss: 0.2956 - accuracy: 0.9188 - val_loss: 0.3020 - val_accuracy: 0.9146\n",
      "Epoch 97/100\n",
      "10/10 [==============================] - 0s 34ms/step - loss: 0.2922 - accuracy: 0.9188 - val_loss: 0.2986 - val_accuracy: 0.9146\n",
      "Epoch 98/100\n",
      "10/10 [==============================] - 0s 37ms/step - loss: 0.2889 - accuracy: 0.9200 - val_loss: 0.2958 - val_accuracy: 0.9140\n",
      "Epoch 99/100\n",
      "10/10 [==============================] - 0s 34ms/step - loss: 0.2857 - accuracy: 0.9211 - val_loss: 0.2925 - val_accuracy: 0.9140\n",
      "Epoch 100/100\n",
      "10/10 [==============================] - 0s 36ms/step - loss: 0.2825 - accuracy: 0.9202 - val_loss: 0.2892 - val_accuracy: 0.9162\n"
     ]
    }
   ],
   "source": [
    "# teacher solution \n",
    "history = model.fit(X_tr,\n",
    "                    y_tr,\n",
    "                    epochs=100,\n",
    "                    batch_size=600,\n",
    "                    validation_data=(X_vld, y_vld),\n",
    "                    verbose=1)"
   ]
  },
  {
   "cell_type": "markdown",
   "metadata": {
    "colab_type": "text",
    "id": "2YXazeH8udoG"
   },
   "source": [
    "### Code below prints the test loss and accuracy <br>\n",
    "### After you print your accuracy and loss, play around with the parameters to try and improve the model performance."
   ]
  },
  {
   "cell_type": "code",
   "execution_count": 29,
   "metadata": {
    "colab": {
     "base_uri": "https://localhost:8080/",
     "height": 52
    },
    "colab_type": "code",
    "id": "k0e7vQOO5w90",
    "outputId": "2ca22a31-2665-4a11-c0ad-a1ec7432b1d8"
   },
   "outputs": [
    {
     "name": "stdout",
     "output_type": "stream",
     "text": [
      "Test loss: 0.45721644163131714\n",
      "Test accuracy: 0.8394978046417236\n"
     ]
    }
   ],
   "source": [
    "score = model.evaluate(X_test, y_test, verbose=0)\n",
    "print('Test loss:', score[0])\n",
    "print('Test accuracy:', score[1])"
   ]
  }
 ],
 "metadata": {
  "colab": {
   "collapsed_sections": [],
   "name": "1DConvNet_Solutions.ipynb",
   "provenance": []
  },
  "kernelspec": {
   "display_name": "Python 3",
   "language": "python",
   "name": "python3"
  },
  "language_info": {
   "codemirror_mode": {
    "name": "ipython",
    "version": 3
   },
   "file_extension": ".py",
   "mimetype": "text/x-python",
   "name": "python",
   "nbconvert_exporter": "python",
   "pygments_lexer": "ipython3",
   "version": "3.7.6"
  }
 },
 "nbformat": 4,
 "nbformat_minor": 4
}
